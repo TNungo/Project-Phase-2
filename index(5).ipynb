{
  "cells": [
    {
      "cell_type": "markdown",
      "metadata": {
        "id": "0SjcXjixiL4l"
      },
      "source": [
        "# Phase 2 Code Challenge\n",
        "\n",
        "This code challenge is designed to test your understanding of the Phase 2 material. It covers:\n",
        "\n",
        "- Normal Distribution\n",
        "- Statistical Tests\n",
        "- Bayesian Statistics\n",
        "- Linear Regression\n",
        "\n",
        "_Read the instructions carefully_. You will be asked both to write code and to answer short answer questions.\n",
        "\n",
        "## Code Tests\n",
        "\n",
        "We have provided some code tests for you to run to check that your work meets the item specifications. Passing these tests does not necessarily mean that you have gotten the item correct - there are additional hidden tests. However, if any of the tests do not pass, this tells you that your code is incorrect and needs changes to meet the specification. To determine what the issue is, read the comments in the code test cells, the error message you receive, and the item instructions.\n",
        "\n",
        "## Short Answer Questions\n",
        "\n",
        "For the short answer questions...\n",
        "\n",
        "* _Use your own words_. It is OK to refer to outside resources when crafting your response, but _do not copy text from another source_.\n",
        "\n",
        "* _Communicate clearly_. We are not grading your writing skills, but you can only receive full credit if your teacher is able to fully understand your response.\n",
        "\n",
        "* _Be concise_. You should be able to answer most short answer questions in a sentence or two. Writing unnecessarily long answers increases the risk of you being unclear or saying something incorrect."
      ]
    },
    {
      "cell_type": "code",
      "execution_count": 44,
      "metadata": {
        "colab": {
          "base_uri": "https://localhost:8080/",
          "height": 145
        },
        "id": "rjWLu1lOlMST",
        "outputId": "311b2ca5-ad36-4d44-c612-c0b61fb9a672"
      },
      "outputs": [
        {
          "output_type": "display_data",
          "data": {
            "text/plain": [
              "<IPython.core.display.HTML object>"
            ],
            "text/html": [
              "\n",
              "     <input type=\"file\" id=\"files-b93c4aa8-3b6d-45ba-8dfc-bcf4899d6cea\" name=\"files[]\" multiple disabled\n",
              "        style=\"border:none\" />\n",
              "     <output id=\"result-b93c4aa8-3b6d-45ba-8dfc-bcf4899d6cea\">\n",
              "      Upload widget is only available when the cell has been executed in the\n",
              "      current browser session. Please rerun this cell to enable.\n",
              "      </output>\n",
              "      <script>// Copyright 2017 Google LLC\n",
              "//\n",
              "// Licensed under the Apache License, Version 2.0 (the \"License\");\n",
              "// you may not use this file except in compliance with the License.\n",
              "// You may obtain a copy of the License at\n",
              "//\n",
              "//      http://www.apache.org/licenses/LICENSE-2.0\n",
              "//\n",
              "// Unless required by applicable law or agreed to in writing, software\n",
              "// distributed under the License is distributed on an \"AS IS\" BASIS,\n",
              "// WITHOUT WARRANTIES OR CONDITIONS OF ANY KIND, either express or implied.\n",
              "// See the License for the specific language governing permissions and\n",
              "// limitations under the License.\n",
              "\n",
              "/**\n",
              " * @fileoverview Helpers for google.colab Python module.\n",
              " */\n",
              "(function(scope) {\n",
              "function span(text, styleAttributes = {}) {\n",
              "  const element = document.createElement('span');\n",
              "  element.textContent = text;\n",
              "  for (const key of Object.keys(styleAttributes)) {\n",
              "    element.style[key] = styleAttributes[key];\n",
              "  }\n",
              "  return element;\n",
              "}\n",
              "\n",
              "// Max number of bytes which will be uploaded at a time.\n",
              "const MAX_PAYLOAD_SIZE = 100 * 1024;\n",
              "\n",
              "function _uploadFiles(inputId, outputId) {\n",
              "  const steps = uploadFilesStep(inputId, outputId);\n",
              "  const outputElement = document.getElementById(outputId);\n",
              "  // Cache steps on the outputElement to make it available for the next call\n",
              "  // to uploadFilesContinue from Python.\n",
              "  outputElement.steps = steps;\n",
              "\n",
              "  return _uploadFilesContinue(outputId);\n",
              "}\n",
              "\n",
              "// This is roughly an async generator (not supported in the browser yet),\n",
              "// where there are multiple asynchronous steps and the Python side is going\n",
              "// to poll for completion of each step.\n",
              "// This uses a Promise to block the python side on completion of each step,\n",
              "// then passes the result of the previous step as the input to the next step.\n",
              "function _uploadFilesContinue(outputId) {\n",
              "  const outputElement = document.getElementById(outputId);\n",
              "  const steps = outputElement.steps;\n",
              "\n",
              "  const next = steps.next(outputElement.lastPromiseValue);\n",
              "  return Promise.resolve(next.value.promise).then((value) => {\n",
              "    // Cache the last promise value to make it available to the next\n",
              "    // step of the generator.\n",
              "    outputElement.lastPromiseValue = value;\n",
              "    return next.value.response;\n",
              "  });\n",
              "}\n",
              "\n",
              "/**\n",
              " * Generator function which is called between each async step of the upload\n",
              " * process.\n",
              " * @param {string} inputId Element ID of the input file picker element.\n",
              " * @param {string} outputId Element ID of the output display.\n",
              " * @return {!Iterable<!Object>} Iterable of next steps.\n",
              " */\n",
              "function* uploadFilesStep(inputId, outputId) {\n",
              "  const inputElement = document.getElementById(inputId);\n",
              "  inputElement.disabled = false;\n",
              "\n",
              "  const outputElement = document.getElementById(outputId);\n",
              "  outputElement.innerHTML = '';\n",
              "\n",
              "  const pickedPromise = new Promise((resolve) => {\n",
              "    inputElement.addEventListener('change', (e) => {\n",
              "      resolve(e.target.files);\n",
              "    });\n",
              "  });\n",
              "\n",
              "  const cancel = document.createElement('button');\n",
              "  inputElement.parentElement.appendChild(cancel);\n",
              "  cancel.textContent = 'Cancel upload';\n",
              "  const cancelPromise = new Promise((resolve) => {\n",
              "    cancel.onclick = () => {\n",
              "      resolve(null);\n",
              "    };\n",
              "  });\n",
              "\n",
              "  // Wait for the user to pick the files.\n",
              "  const files = yield {\n",
              "    promise: Promise.race([pickedPromise, cancelPromise]),\n",
              "    response: {\n",
              "      action: 'starting',\n",
              "    }\n",
              "  };\n",
              "\n",
              "  cancel.remove();\n",
              "\n",
              "  // Disable the input element since further picks are not allowed.\n",
              "  inputElement.disabled = true;\n",
              "\n",
              "  if (!files) {\n",
              "    return {\n",
              "      response: {\n",
              "        action: 'complete',\n",
              "      }\n",
              "    };\n",
              "  }\n",
              "\n",
              "  for (const file of files) {\n",
              "    const li = document.createElement('li');\n",
              "    li.append(span(file.name, {fontWeight: 'bold'}));\n",
              "    li.append(span(\n",
              "        `(${file.type || 'n/a'}) - ${file.size} bytes, ` +\n",
              "        `last modified: ${\n",
              "            file.lastModifiedDate ? file.lastModifiedDate.toLocaleDateString() :\n",
              "                                    'n/a'} - `));\n",
              "    const percent = span('0% done');\n",
              "    li.appendChild(percent);\n",
              "\n",
              "    outputElement.appendChild(li);\n",
              "\n",
              "    const fileDataPromise = new Promise((resolve) => {\n",
              "      const reader = new FileReader();\n",
              "      reader.onload = (e) => {\n",
              "        resolve(e.target.result);\n",
              "      };\n",
              "      reader.readAsArrayBuffer(file);\n",
              "    });\n",
              "    // Wait for the data to be ready.\n",
              "    let fileData = yield {\n",
              "      promise: fileDataPromise,\n",
              "      response: {\n",
              "        action: 'continue',\n",
              "      }\n",
              "    };\n",
              "\n",
              "    // Use a chunked sending to avoid message size limits. See b/62115660.\n",
              "    let position = 0;\n",
              "    do {\n",
              "      const length = Math.min(fileData.byteLength - position, MAX_PAYLOAD_SIZE);\n",
              "      const chunk = new Uint8Array(fileData, position, length);\n",
              "      position += length;\n",
              "\n",
              "      const base64 = btoa(String.fromCharCode.apply(null, chunk));\n",
              "      yield {\n",
              "        response: {\n",
              "          action: 'append',\n",
              "          file: file.name,\n",
              "          data: base64,\n",
              "        },\n",
              "      };\n",
              "\n",
              "      let percentDone = fileData.byteLength === 0 ?\n",
              "          100 :\n",
              "          Math.round((position / fileData.byteLength) * 100);\n",
              "      percent.textContent = `${percentDone}% done`;\n",
              "\n",
              "    } while (position < fileData.byteLength);\n",
              "  }\n",
              "\n",
              "  // All done.\n",
              "  yield {\n",
              "    response: {\n",
              "      action: 'complete',\n",
              "    }\n",
              "  };\n",
              "}\n",
              "\n",
              "scope.google = scope.google || {};\n",
              "scope.google.colab = scope.google.colab || {};\n",
              "scope.google.colab._files = {\n",
              "  _uploadFiles,\n",
              "  _uploadFilesContinue,\n",
              "};\n",
              "})(self);\n",
              "</script> "
            ]
          },
          "metadata": {}
        },
        {
          "output_type": "stream",
          "name": "stdout",
          "text": [
            "Saving advertising.csv to advertising.csv\n",
            "Saving no_queso.pkl to no_queso (1).pkl\n",
            "Saving queso.pkl to queso (1).pkl\n"
          ]
        }
      ],
      "source": [
        "#upload the necessary file on Google Collab\n",
        "from google.colab import files\n",
        "uploaded = files.upload()"
      ]
    },
    {
      "cell_type": "code",
      "execution_count": 1,
      "metadata": {
        "id": "rtUSI0uYiL4n"
      },
      "outputs": [],
      "source": [
        "# Run this cell without changes to import the necessary libraries\n",
        "\n",
        "import itertools\n",
        "import numpy as np\n",
        "import pandas as pd\n",
        "from numbers import Number\n",
        "from scipy import stats\n",
        "import matplotlib.pyplot as plt\n",
        "import seaborn as sns\n",
        "%matplotlib inline\n",
        "\n",
        "import pickle"
      ]
    },
    {
      "cell_type": "markdown",
      "metadata": {
        "id": "pZUXX80oiL4p"
      },
      "source": [
        "---\n",
        "## Part 1: Normal Distribution [Suggested time: 20 minutes]\n",
        "---\n",
        "In this part, you will analyze check totals at a TexMex restaurant. We know that the population distribution of check totals for the TexMex restaurant is normally distributed with a mean of \\\\$20 and a standard deviation of \\\\$3."
      ]
    },
    {
      "cell_type": "markdown",
      "metadata": {
        "id": "OLT_xLc6iL4q"
      },
      "source": [
        "### 1.1) Create a numeric variable `z_score_26` containing the z-score for a \\\\$26 check."
      ]
    },
    {
      "cell_type": "markdown",
      "metadata": {
        "id": "RiXIPcmAiL4q"
      },
      "source": [
        "**Starter Code**\n",
        "\n",
        "    z_score_26 ="
      ]
    },
    {
      "cell_type": "code",
      "execution_count": 5,
      "metadata": {
        "id": "tHCJqw72iL4q",
        "colab": {
          "base_uri": "https://localhost:8080/"
        },
        "outputId": "e6db8b18-42ee-4970-e085-5d3dfc55fb57"
      },
      "outputs": [
        {
          "output_type": "stream",
          "name": "stdout",
          "text": [
            "Z-score for a $26 check: 2.0\n"
          ]
        }
      ],
      "source": [
        "# Given data\n",
        "mean = 20\n",
        "std_dev = 3\n",
        "check_amount = 26\n",
        "\n",
        "# Calculate the z-score\n",
        "z_score_26 = (check_amount - mean) / std_dev\n",
        "\n",
        "# Print the z-score\n",
        "print(f\"Z-score for a $26 check: {z_score_26}\")\n",
        "\n",
        "\n",
        "\n",
        "# YOUR CODE HERE\n",
        "# raise NotImplementedError()"
      ]
    },
    {
      "cell_type": "code",
      "execution_count": 4,
      "metadata": {
        "id": "JJthIIp5iL4r"
      },
      "outputs": [],
      "source": [
        "# This test confirms that you have created a numeric variable named z_score_26\n",
        "\n",
        "assert isinstance(z_score_26, Number)\n"
      ]
    },
    {
      "cell_type": "markdown",
      "metadata": {
        "id": "6jwuHPuviL4r"
      },
      "source": [
        "### 1.2) Create a numeric variable `p_under_26` containing the approximate proportion of all checks that are less than \\\\$26.\n",
        "\n",
        "Hint: Use the answer from the previous question along with the empirical rule, a Python function, or this [z-table](https://www.math.arizona.edu/~rsims/ma464/standardnormaltable.pdf)."
      ]
    },
    {
      "cell_type": "markdown",
      "metadata": {
        "id": "y3ZXnUzziL4r"
      },
      "source": [
        "**Starter Code**\n",
        "\n",
        "    p_under_26 ="
      ]
    },
    {
      "cell_type": "code",
      "execution_count": 7,
      "metadata": {
        "id": "titSg_MjiL4s"
      },
      "outputs": [],
      "source": [
        "import scipy.stats as stats\n",
        "\n",
        "# Given data\n",
        "mean = 20\n",
        "std_dev = 3\n",
        "check_amount = 26\n",
        "\n",
        "# Calculate the z-score\n",
        "z_score_26 = (check_amount - mean) / std_dev\n",
        "\n",
        "# Calculate the cumulative probability using the CDF\n",
        "p_under_26 = stats.norm.cdf(z_score_26) # Use the cdf function to calculate probability\n",
        "\n",
        "# YOUR CODE HERE\n",
        "# raise NotImplementedError()"
      ]
    },
    {
      "cell_type": "code",
      "execution_count": 8,
      "metadata": {
        "id": "Tw4awLk4iL4t"
      },
      "outputs": [],
      "source": [
        "# This test confirms that you have created a numeric variable named p_under_26\n",
        "\n",
        "assert isinstance(p_under_26, Number)\n",
        "\n",
        "# These tests confirm that p_under_26 is a value between 0 and 1\n",
        "\n",
        "assert p_under_26 >= 0\n",
        "assert p_under_26 <= 1\n"
      ]
    },
    {
      "cell_type": "markdown",
      "metadata": {
        "id": "wcSEdYnwiL4t"
      },
      "source": [
        "### 1.3) Create numeric variables `conf_low` and `conf_high` containing the lower and upper bounds (respectively) of a 95% confidence interval for the mean of one waiter's check amounts using the information below.\n",
        "\n",
        "One week, a waiter gets 100 checks with a mean of \\\\$19 and a standard deviation of \\\\$3."
      ]
    },
    {
      "cell_type": "markdown",
      "metadata": {
        "id": "cI7rECg8iL4t"
      },
      "source": [
        "**Starter Code**\n",
        "\n",
        "    n = 100\n",
        "    mean = 19\n",
        "    std = 3\n",
        "    \n",
        "    conf_low =\n",
        "    conf_high ="
      ]
    },
    {
      "cell_type": "code",
      "execution_count": 9,
      "metadata": {
        "colab": {
          "base_uri": "https://localhost:8080/"
        },
        "id": "lXP3r4AyiL4t",
        "outputId": "d50a0c6c-3901-4650-a032-0074ca349970"
      },
      "outputs": [
        {
          "output_type": "stream",
          "name": "stdout",
          "text": [
            "Lower bound of 95% CI: 18.41\n",
            "Upper bound of 95% CI: 19.59\n"
          ]
        }
      ],
      "source": [
        "import scipy.stats as stats\n",
        "import math\n",
        "\n",
        "# Given data\n",
        "sample_mean = 19\n",
        "sample_std_dev = 3\n",
        "sample_size = 100\n",
        "confidence_level = 0.95\n",
        "\n",
        "# Calculate the critical value (z-score) for 95% confidence level\n",
        "z_critical = stats.norm.ppf((1 + confidence_level) / 2)\n",
        "\n",
        "# Calculate standard error of the mean\n",
        "standard_error = sample_std_dev / math.sqrt(sample_size)\n",
        "\n",
        "# Calculate the margin of error\n",
        "margin_of_error = z_critical * standard_error\n",
        "\n",
        "# Calculate the confidence interval bounds\n",
        "conf_low = sample_mean - margin_of_error\n",
        "conf_high = sample_mean + margin_of_error\n",
        "\n",
        "# Print the confidence interval bounds\n",
        "print(f\"Lower bound of 95% CI: {conf_low:.2f}\")\n",
        "print(f\"Upper bound of 95% CI: {conf_high:.2f}\")\n",
        "\n",
        "\n",
        "# YOUR CODE HERE\n",
        "# raise NotImplementedError()"
      ]
    },
    {
      "cell_type": "code",
      "execution_count": 10,
      "metadata": {
        "colab": {
          "base_uri": "https://localhost:8080/"
        },
        "id": "mBrP8S0_iL4u",
        "outputId": "25bf6ad6-069b-4a20-f3d8-84756ef5b8f7"
      },
      "outputs": [
        {
          "output_type": "stream",
          "name": "stdout",
          "text": [
            "The lower bound of the 95% confidence interval is 18.412010804637983\n",
            "The upper bound of the 95% confidence interval is 19.587989195362017\n"
          ]
        }
      ],
      "source": [
        "# These tests confirm that you have created numeric variables named conf_low and conf_high\n",
        "\n",
        "assert isinstance(conf_low, Number)\n",
        "assert isinstance(conf_high, Number)\n",
        "\n",
        "# This test confirms that conf_low is below conf_high\n",
        "\n",
        "assert conf_low < conf_high\n",
        "\n",
        "# These statements print your answers for reference to help answer the next question\n",
        "\n",
        "print('The lower bound of the 95% confidence interval is {}'.format(conf_low))\n",
        "print('The upper bound of the 95% confidence interval is {}'.format(conf_high))\n"
      ]
    },
    {
      "cell_type": "markdown",
      "metadata": {
        "id": "yAjxeCUpiL4u"
      },
      "source": [
        "### 1.4) Short Answer: Interpret the 95% confidence interval you just calculated in Question 1.3."
      ]
    },
    {
      "cell_type": "markdown",
      "metadata": {
        "id": "69hkrZqTiL4v"
      },
      "source": [
        "The 95% confidence interval derived in Question 1.3 indicates that we are 95% confident that the waiter's check mean amount ranges between 18.412010804637983 and 19.587989195362017 dollars."
      ]
    },
    {
      "cell_type": "markdown",
      "metadata": {
        "id": "Eep3QDgDiL4v"
      },
      "source": [
        "---\n",
        "## Part 2: Statistical Testing [Suggested time: 20 minutes]\n",
        "---\n",
        "The TexMex restaurant recently introduced queso to its menu.\n",
        "\n",
        "We have a random sample containing 2000 check totals, all from different customers: 1000 check totals for orders without queso (\"no queso\") and 1000 check totals for orders with queso (\"queso\").\n",
        "\n",
        "In the cell below, we load the sample data for you into the arrays `no_queso` and `queso` for the \"no queso\" and \"queso\" order check totals, respectively."
      ]
    },
    {
      "cell_type": "code",
      "execution_count": 13,
      "metadata": {
        "id": "7IuoGeGKiL4v"
      },
      "outputs": [],
      "source": [
        "# Run this cell without changes\n",
        "\n",
        "# Load the sample data\n",
        "no_queso = pickle.load(open('./no_queso.pkl', 'rb'))\n",
        "queso = pickle.load(open('./queso.pkl', 'rb'))"
      ]
    },
    {
      "cell_type": "markdown",
      "metadata": {
        "id": "XXbL0qTHiL4v"
      },
      "source": [
        "### 2.1) Short Answer: State null and alternative hypotheses to use for testing whether customers who order queso spend different amounts of money from customers who do not order queso."
      ]
    },
    {
      "cell_type": "markdown",
      "metadata": {
        "id": "fSL1YgXbiL4v"
      },
      "source": [
        "Null hypothesis (H₀): Customers who buy queso spend the same amount as those who do not.\n",
        "\n",
        "Alternative Hypothesis (H₁ or Hₐ): Customers who order queso spend more money than those who don't."
      ]
    },
    {
      "cell_type": "markdown",
      "metadata": {
        "id": "A-1S6eWjiL4w"
      },
      "source": [
        "### 2.2) Short Answer: What would it mean to make a Type I error for this specific hypothesis test?\n",
        "\n"
      ]
    },
    {
      "cell_type": "markdown",
      "metadata": {
        "id": "P4rGAAHCiL4w"
      },
      "source": [
        "Type 1 error would mean rejecting the null hypothesis, which in this context would be, Customers who order queso spend a different amount to those who don't."
      ]
    },
    {
      "cell_type": "markdown",
      "metadata": {
        "id": "K3wUC3F_iL4w"
      },
      "source": [
        "### 2.3) Create a numeric variable `p_value` containing the p-value associated with a statistical test of your hypotheses.\n",
        "\n",
        "You must identify and implement the correct statistical test for this scenario. You can assume the two samples have equal variances.\n",
        "\n",
        "Hint: Use `scipy.stats` to calculate the answer - it has already been imported as `stats`. Relevant documentation can be found [here](https://docs.scipy.org/doc/scipy/reference/stats.html#statistical-tests)."
      ]
    },
    {
      "cell_type": "markdown",
      "metadata": {
        "id": "J5srN8wViL4w"
      },
      "source": [
        "**Starter Code**\n",
        "\n",
        "    p_value ="
      ]
    },
    {
      "cell_type": "code",
      "execution_count": 26,
      "metadata": {
        "id": "3ggjAEjYiL4w",
        "colab": {
          "base_uri": "https://localhost:8080/"
        },
        "outputId": "180efc80-a5dc-4af4-922a-d700874a47ba"
      },
      "outputs": [
        {
          "output_type": "stream",
          "name": "stdout",
          "text": [
            "The p-value associated with the t-test is: 0.34659350708733416\n"
          ]
        }
      ],
      "source": [
        "from scipy import stats\n",
        "from numbers import Number\n",
        "\n",
        "group1 = [30, 35, 40, 45, 50]  # amounts spent by customers who order queso\n",
        "group2 = [25, 30, 35, 40, 45]  # amounts spent by customers who do not order queso\n",
        "\n",
        "# Perform two-sample t-test assuming equal variances\n",
        "result = stats.ttest_ind(group1, group2, equal_var=True)  # Store the result object\n",
        "\n",
        "# Extract the p-value from the result object\n",
        "p_value = result.pvalue\n",
        "\n",
        "# Print the p-value\n",
        "print(\"The p-value associated with the t-test is:\", p_value)\n",
        "\n",
        "# These tests confirm that you have created a numeric variable named p_value\n",
        "assert isinstance(p_value, Number)"
      ]
    },
    {
      "cell_type": "code",
      "execution_count": 27,
      "metadata": {
        "id": "OFWl_xNqiL4x"
      },
      "outputs": [],
      "source": [
        "# These tests confirm that you have created a numeric variable named p_value\n",
        "\n",
        "assert isinstance(p_value, Number)\n"
      ]
    },
    {
      "cell_type": "markdown",
      "metadata": {
        "id": "XwtDRh3kiL4x"
      },
      "source": [
        "### 2.4) Short Answer: Can you reject the null hypothesis using a significance level of $\\alpha$ = 0.05? Explain why or why not."
      ]
    },
    {
      "cell_type": "markdown",
      "metadata": {
        "id": "YsBkd0eiiL4x"
      },
      "source": [
        "We can not reject the null hypothesis because it is greater than 0.05"
      ]
    },
    {
      "cell_type": "markdown",
      "metadata": {
        "id": "Z5xpeiHxiL4x"
      },
      "source": [
        "---\n",
        "## Part 3: Bayesian Statistics [Suggested time: 15 minutes]\n",
        "---\n",
        "A medical test is designed to diagnose a certain disease. The test has a false positive rate of 10%, meaning that 10% of people without the disease will get a positive test result. The test has a false negative rate of 2%, meaning that 2% of people with the disease will get a negative result. Only 1% of the population has this disease."
      ]
    },
    {
      "cell_type": "markdown",
      "metadata": {
        "id": "9ya4mQowiL4x"
      },
      "source": [
        "### 3.1) Create a numeric variable `p_pos_test` containing the probability of a person receiving a positive test result.\n",
        "\n",
        "Assume that the person being tested is randomly selected from the broader population."
      ]
    },
    {
      "cell_type": "markdown",
      "metadata": {
        "id": "6pu77elciL4y"
      },
      "source": [
        "**Starter Code**\n",
        "    \n",
        "    false_pos_rate = 0.1\n",
        "    false_neg_rate = 0.02\n",
        "    population_rate = 0.01\n",
        "    \n",
        "    p_pos_test ="
      ]
    },
    {
      "cell_type": "code",
      "execution_count": 42,
      "metadata": {
        "id": "20gPBa-wiL4y",
        "colab": {
          "base_uri": "https://localhost:8080/"
        },
        "outputId": "b4e13882-6ce4-4d89-a754-5d582f86fe76"
      },
      "outputs": [
        {
          "output_type": "stream",
          "name": "stdout",
          "text": [
            "Probability of a person receiving a positive result is: 0.88\n"
          ]
        }
      ],
      "source": [
        "false_pos_rate = 0.1\n",
        "false_neg_rate = 0.02\n",
        "population_rate = 0.01\n",
        "\n",
        "# Calculation\n",
        "p_pos_test = 1 - (false_pos_rate + false_neg_rate)\n",
        "\n",
        "# Print result\n",
        "print(\"Probability of a person receiving a positive result is:\" , p_pos_test)\n",
        "\n",
        "\n",
        "# YOUR CODE HERE\n",
        "# raise NotImplementedError()"
      ]
    },
    {
      "cell_type": "code",
      "execution_count": 36,
      "metadata": {
        "id": "BtLmcwDciL4y"
      },
      "outputs": [],
      "source": [
        "# This test confirms that you have created a numeric variable named p_pos_test\n",
        "\n",
        "assert isinstance(p_pos_test, Number)\n",
        "\n",
        "# These tests confirm that p_pos_test is a value between 0 and 1\n",
        "\n",
        "assert p_pos_test >= 0\n",
        "assert p_pos_test <= 1\n"
      ]
    },
    {
      "cell_type": "markdown",
      "metadata": {
        "id": "u3atjZXCiL4z"
      },
      "source": [
        "### 3.2) Create a numeric variable `p_pos_pos` containing the probability of a person actually having the disease if they receive a positive test result.\n",
        "\n",
        "Assume that the person being tested is randomly selected from the broader population.\n",
        "\n",
        "Hint: Use your answer to the previous question to help answer this one."
      ]
    },
    {
      "cell_type": "markdown",
      "metadata": {
        "id": "xw0gwQCZiL4z"
      },
      "source": [
        "**Starter Code**\n",
        "    \n",
        "    false_pos_rate = 0.1\n",
        "    false_neg_rate = 0.02\n",
        "    population_rate = 0.01\n",
        "    \n",
        "    p_pos_pos ="
      ]
    },
    {
      "cell_type": "code",
      "execution_count": 41,
      "metadata": {
        "id": "HW6tQ3n-iL4z",
        "colab": {
          "base_uri": "https://localhost:8080/"
        },
        "outputId": "35dc6579-ae6b-47ca-e157-f68062547ecb"
      },
      "outputs": [
        {
          "output_type": "stream",
          "name": "stdout",
          "text": [
            "The probability of a person actually having the disease if they receive a positive test result is: 0.06896551724137932\n"
          ]
        }
      ],
      "source": [
        "false_pos_rate = 0.1\n",
        "false_neg_rate = 0.02\n",
        "population_rate = 0.01\n",
        "P_pos_test = 0.88\n",
        "\n",
        "# Calculation\n",
        "p_pos_pos = P_pos_test * population_rate / (P_pos_test * population_rate + (1 - P_pos_test) * (1 - population_rate))\n",
        "\n",
        "# Print result\n",
        "print(\"The probability of a person actually having the disease if they receive a positive test result is:\", p_pos_pos)\n",
        "\n",
        "# YOUR CODE HERE\n",
        "# raise NotImplementedError()"
      ]
    },
    {
      "cell_type": "code",
      "execution_count": null,
      "metadata": {
        "id": "oP_I9Ai8iL4z"
      },
      "outputs": [],
      "source": [
        "# This test confirms that you have created a numeric variable named p_pos_pos\n",
        "\n",
        "assert isinstance(p_pos_pos, Number)\n",
        "\n",
        "# These tests confirm that p_pos_pos is a value between 0 and 1\n",
        "\n",
        "assert p_pos_pos >= 0\n",
        "assert p_pos_pos <= 1\n"
      ]
    },
    {
      "cell_type": "markdown",
      "metadata": {
        "id": "FwEH84AEiL4z"
      },
      "source": [
        "---\n",
        "\n",
        "## Part 4: Linear Regression [Suggested Time: 20 min]\n",
        "---\n",
        "\n",
        "In this section, you'll run regression models with advertising data. The dataset includes the advertising spending and sales for 200 products. These products are a random sample of 200 products from a larger population of products.\n",
        "\n",
        "The dataset has three features - `TV`, `radio`, and `newspaper` - that describe how many thousands of advertising dollars were spent promoting the product. The target, `sales`, describes how many millions of dollars in sales the product had."
      ]
    },
    {
      "cell_type": "code",
      "execution_count": 45,
      "metadata": {
        "id": "77HzXCtPiL40"
      },
      "outputs": [],
      "source": [
        "# Run this cell without changes\n",
        "\n",
        "import statsmodels\n",
        "from statsmodels.formula.api import ols\n",
        "\n",
        "data = pd.read_csv('./advertising.csv').drop('Unnamed: 0', axis=1)\n",
        "X = data.drop('sales', axis=1)\n",
        "y = data['sales']"
      ]
    },
    {
      "cell_type": "markdown",
      "metadata": {
        "id": "C2IsNDkRiL40"
      },
      "source": [
        "### 4.1) Create a variable `tv_mod_summ` containing the summary of a fit StatsModels `ols` model for a linear regression using `TV` to predict `sales`."
      ]
    },
    {
      "cell_type": "markdown",
      "metadata": {
        "id": "mJu59hRxiL40"
      },
      "source": [
        "**Starter Code**\n",
        "\n",
        "    tv_mod = ols(\n",
        "    tv_mod_summ = tv_mod.summary()"
      ]
    },
    {
      "cell_type": "code",
      "execution_count": null,
      "metadata": {
        "id": "SMeS9ye4iL40"
      },
      "outputs": [],
      "source": [
        "# Fit the model and store the summary in tv_mod_summ\n",
        "tv_mod_summ = ols('sales ~ TV', data=data).fit().summary()\n",
        "tv_mod_summ = tv_mod_summ.summary()\n",
        "\n",
        "import statsmodels.api as sm\n",
        "import pandas as pd  # Assuming you're working with pandas DataFrames\n",
        "\n",
        "# Example data (replace with your actual data)\n",
        "data = {\n",
        "    'TV': [100, 200, 300, 400, 500],\n",
        "    'Sales': [50, 75, 110, 150, 200]\n",
        "}\n",
        "\n",
        "df = pd.DataFrame(data)\n",
        "\n",
        "# Separate the predictors (X) and response (y)\n",
        "X = df[['TV']]  # Predictor variable (TV advertising expenditure)\n",
        "y = df['Sales']  # Response variable (Sales)\n",
        "\n",
        "# Add a constant to the predictor matrix (X) to fit an intercept\n",
        "X = sm.add_constant(X)\n",
        "\n",
        "# Fit OLS model (ordinary least squares)\n",
        "model = sm.OLS(y, X).fit()\n",
        "\n",
        "# Store the summary of the model\n",
        "tv_mod_summ = model.summary()\n",
        "\n",
        "# Print the summary\n",
        "print(tv_mod_summ)\n",
        "\n",
        "\n",
        "# YOUR CODE HERE\n",
        "# raise NotImplementedError()"
      ]
    },
    {
      "cell_type": "code",
      "execution_count": null,
      "metadata": {
        "id": "g0wr_3LSiL41"
      },
      "outputs": [],
      "source": [
        "# This test confirms that you have created a variable named tv_mod_summ containing a StatsModels Summary\n",
        "\n",
        "assert type(tv_mod_summ) == statsmodels.iolib.summary.Summary\n",
        "\n",
        "# This statement prints your answer for reference to help answer the next question\n",
        "\n",
        "print(tv_mod_summ)\n"
      ]
    },
    {
      "cell_type": "markdown",
      "metadata": {
        "id": "XfczRgpciL41"
      },
      "source": [
        "### 4.2) Short Answer: Is there a statistically significant relationship between TV advertising spend and sales in this model? How did you determine this from the model output?\n",
        "\n",
        "This question is asking you to use your findings from the sample in your dataset to make an inference about the relationship between TV advertising spend and sales in the broader population."
      ]
    },
    {
      "cell_type": "markdown",
      "metadata": {
        "id": "J7GXjJCwiL41"
      },
      "source": [
        "YOUR ANSWER HERE"
      ]
    },
    {
      "cell_type": "markdown",
      "metadata": {
        "id": "xu6UNxHhiL41"
      },
      "source": [
        "### 4.3) Short Answer: Run the cell below to produce a correlation matrix. Given the output, would you expect any collinearity issues if you included all of these features in one regression model?"
      ]
    },
    {
      "cell_type": "code",
      "execution_count": null,
      "metadata": {
        "id": "x9DSBrWViL42"
      },
      "outputs": [],
      "source": [
        "# Run this cell\n",
        "\n",
        "X.corr()"
      ]
    },
    {
      "cell_type": "markdown",
      "metadata": {
        "id": "MMdSUL4hiL42"
      },
      "source": [
        "YOUR ANSWER HERE"
      ]
    },
    {
      "cell_type": "markdown",
      "metadata": {
        "id": "xCfVYKRQiL42"
      },
      "source": [
        "### 4.4) Create a variable `all_mod_summ` containing the summary of a fit StatsModels `ols` model for a multiple regression using `TV`, `radio`, and `newspaper` to predict `sales`."
      ]
    },
    {
      "cell_type": "markdown",
      "metadata": {
        "id": "GpPWhFcbiL42"
      },
      "source": [
        "**Starter Code**\n",
        "\n",
        "    all_mod = ols(\n",
        "    all_mod_summ = all_mod.summary()"
      ]
    },
    {
      "cell_type": "code",
      "execution_count": null,
      "metadata": {
        "id": "0wxqbiB5iL42"
      },
      "outputs": [],
      "source": [
        "# YOUR CODE HERE\n",
        "raise NotImplementedError()"
      ]
    },
    {
      "cell_type": "code",
      "execution_count": null,
      "metadata": {
        "id": "ntKct9p7iL42"
      },
      "outputs": [],
      "source": [
        "# This test confirms that you have created a variable named all_mod_summ containing a StatsModels Summary\n",
        "\n",
        "assert type(all_mod_summ) == statsmodels.iolib.summary.Summary\n",
        "\n",
        "# This statement prints your answer for reference to help answer the next question\n",
        "\n",
        "print(all_mod_summ)\n"
      ]
    },
    {
      "cell_type": "markdown",
      "metadata": {
        "id": "pS59-Z0BiL43"
      },
      "source": [
        "### 4.5) Short Answer: Does this model do a better job of explaining sales than the previous model using only the `TV` feature? Explain how you determined this based on the model output."
      ]
    },
    {
      "cell_type": "markdown",
      "metadata": {
        "id": "0oS566PdiL43"
      },
      "source": [
        "YOUR ANSWER HERE"
      ]
    }
  ],
  "metadata": {
    "colab": {
      "provenance": []
    },
    "kernelspec": {
      "display_name": "Python 3",
      "language": "python",
      "name": "python3"
    },
    "language_info": {
      "codemirror_mode": {
        "name": "ipython",
        "version": 3
      },
      "file_extension": ".py",
      "mimetype": "text/x-python",
      "name": "python",
      "nbconvert_exporter": "python",
      "pygments_lexer": "ipython3",
      "version": "3.8.5"
    },
    "toc": {
      "base_numbering": 1,
      "nav_menu": {},
      "number_sections": true,
      "sideBar": true,
      "skip_h1_title": false,
      "title_cell": "Table of Contents",
      "title_sidebar": "Contents",
      "toc_cell": false,
      "toc_position": {},
      "toc_section_display": true,
      "toc_window_display": false
    }
  },
  "nbformat": 4,
  "nbformat_minor": 0
}